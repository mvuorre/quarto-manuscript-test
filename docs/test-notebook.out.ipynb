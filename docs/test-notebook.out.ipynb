{
 "cells": [
  {
   "cell_type": "markdown",
   "metadata": {},
   "source": [
    "# Test notebook\n",
    "\n",
    "Here’s code for yall"
   ],
   "id": "db6978de-e560-4b31-ba3b-7c3a9b41d070"
  },
  {
   "cell_type": "code",
   "execution_count": null,
   "metadata": {},
   "outputs": [
    {
     "output_type": "stream",
     "name": "stderr",
     "text": [
      "── Attaching core tidyverse packages ──────────────────────── tidyverse 2.0.0 ──\n",
      "✔ dplyr     1.1.3     ✔ readr     2.1.4\n",
      "✔ forcats   1.0.0     ✔ stringr   1.5.0\n",
      "✔ ggplot2   3.4.4     ✔ tibble    3.2.1\n",
      "✔ lubridate 1.9.3     ✔ tidyr     1.3.0\n",
      "✔ purrr     1.0.2     \n",
      "── Conflicts ────────────────────────────────────────── tidyverse_conflicts() ──\n",
      "✖ dplyr::filter() masks stats::filter()\n",
      "✖ dplyr::lag()    masks stats::lag()\n",
      "ℹ Use the conflicted package (<http://conflicted.r-lib.org/>) to force all conflicts to become errors"
     ]
    }
   ],
   "source": [
    "library(tidyverse)\n"
   ],
   "id": "a1a6de78-f01a-48cd-ab54-e27f990c12c1"
  },
  {
   "cell_type": "markdown",
   "metadata": {},
   "source": [
    "echo: false doesn’t work below"
   ],
   "id": "4f330698-c51d-4469-9221-fe89e054c3bf"
  },
  {
   "cell_type": "code",
   "execution_count": null,
   "metadata": {},
   "outputs": [
    {
     "output_type": "stream",
     "name": "stdout",
     "text": [
      "[1] 2"
     ]
    }
   ],
   "source": [
    "1 + 1\n"
   ],
   "id": "cc0fb86a-5da0-4510-ad7b-495c45debe33"
  }
 ],
 "nbformat": 4,
 "nbformat_minor": 5,
 "metadata": {}
}
